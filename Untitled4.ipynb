{
 "cells": [
  {
   "cell_type": "code",
   "execution_count": null,
   "metadata": {},
   "outputs": [],
   "source": [
    "# Author : Amir Shokri\n",
    "# github link : https://github.com/amirshnll/Online-Shoppers-Purchasing-Intention/\n",
    "# dataset link : http://archive.ics.uci.edu/ml/datasets/Online+Shoppers+Purchasing+Intention+Dataset\n",
    "# email : amirsh.nll@gmail.com"
   ]
  },
  {
   "cell_type": "code",
   "execution_count": 1,
   "metadata": {},
   "outputs": [],
   "source": [
    "import csv \n",
    "\n",
    "def transformDataMTT(trainingFile, features):\n",
    "\n",
    "    transformData=[]\n",
    "\n",
    "    labels = []\n",
    "\n",
    "    blank=\"\"\n",
    "    \n",
    "    # Now we are finally ready to read the csv file\n",
    "    with open(trainingFile,'r') as csvfile:\n",
    "        lineReader = csv.reader(csvfile,delimiter=',')\n",
    "        lineNum=1\n",
    "        # lineNum will help us keep track of which row we are in \n",
    "        for row in lineReader:\n",
    "            if lineNum==1:\n",
    "                header = row\n",
    "            else: \n",
    "                allFeatures=list(row)\n",
    "                featureVector = [allFeatures[header.index(feature)] for feature in features]\n",
    "                if blank not in featureVector:\n",
    "                    transformData.append(featureVector)\n",
    "                    labels.append(int(row[1]))\n",
    "            lineNum=lineNum+1\n",
    "        return transformData,labels\n",
    "    # return both our list of feature vectors and the list of labels \n",
    "                "
   ]
  },
  {
   "cell_type": "code",
   "execution_count": 2,
   "metadata": {},
   "outputs": [],
   "source": [
    "# Let's take this for a spin now\n",
    "trainingFile=\"O_S_I_train.csv\"\n",
    "features=[\"Administrative\",\"Informational\",\"ProductRelated\",\"ProductRelated_Duration\",\"BounceRates\",\"ExitRates\",\"PageValues\",\"SpecialDay\",\"Month\",\"OperatingSystems\",\"Browser\",\"Region\",\"TrafficType\",\"VisitorType\",\"Weekend\",\"Revenue\"]\n",
    "trainingData=transformDataMTT(trainingFile,features)"
   ]
  },
  {
   "cell_type": "code",
   "execution_count": 3,
   "metadata": {},
   "outputs": [],
   "source": [
    "# We are now ready to train our Decision Tree classifier\n",
    "from sklearn import tree\n",
    "import numpy as np\n",
    "clf=tree.DecisionTreeClassifier(max_leaf_nodes=20)\n",
    "X=np.array(trainingData[0])\n",
    "y=np.array(trainingData[1])\n",
    "clf=clf.fit(X,y)\n"
   ]
  },
  {
   "cell_type": "code",
   "execution_count": 4,
   "metadata": {},
   "outputs": [],
   "source": [
    "import graphviz\n",
    "with open(\"MTTTEST.dot\",\"w\") as f:\n",
    "    f = tree.export_graphviz(clf,\n",
    "                            feature_names=features,out_file=f)"
   ]
  },
  {
   "cell_type": "code",
   "execution_count": 5,
   "metadata": {},
   "outputs": [
    {
     "data": {
      "text/plain": [
       "array([0.00000000e+00, 9.98560734e-01, 0.00000000e+00, 3.69042494e-04,\n",
       "       0.00000000e+00, 0.00000000e+00, 0.00000000e+00, 0.00000000e+00,\n",
       "       2.76781870e-04, 0.00000000e+00, 0.00000000e+00, 0.00000000e+00,\n",
       "       7.93441362e-04, 0.00000000e+00, 0.00000000e+00, 0.00000000e+00])"
      ]
     },
     "execution_count": 5,
     "metadata": {},
     "output_type": "execute_result"
    }
   ],
   "source": [
    "clf.feature_importances_"
   ]
  },
  {
   "cell_type": "code",
   "execution_count": 6,
   "metadata": {},
   "outputs": [],
   "source": [
    "def transformTestDataMTT(testFile,features):\n",
    "\n",
    "    transformData=[]\n",
    "    ids=[]\n",
    "    blank=\"\"\n",
    "    with open(testFile,\"r\") as csvfile:\n",
    "        lineReader = csv.reader(csvfile,delimiter=',')\n",
    "        lineNum=1\n",
    "        for row in lineReader:\n",
    "            if lineNum==1:\n",
    "                header=row\n",
    "            else: \n",
    "                allFeatures=list(row)\n",
    "                featureVector = [allFeatures[header.index(feature)] for feature in features]\n",
    "                #featureVector=list(map(lambda x:0 if x==\"\" else x, featureVector))\n",
    "                transformData.append(featureVector)\n",
    "                ids.append(row[0])\n",
    "            lineNum=lineNum+1 \n",
    "    return transformData,ids\n"
   ]
  },
  {
   "cell_type": "code",
   "execution_count": 21,
   "metadata": {},
   "outputs": [],
   "source": [
    "def MTTTest(classifier,resultFile,transformDataFunction=transformTestDataMTT):\n",
    "    testFile=\"O_S_I_test.csv\"\n",
    "    testData=transformDataFunction(testFile,features)\n",
    "    result=classifier.predict(testData[0])\n",
    "    with open(resultFile,\"w\") as mf:\n",
    "        ids=testData[1]\n",
    "        lineWriter=csv.writer(mf,delimiter=',')\n",
    "        lineWriter.writerow([\"ShopperId\",\"Revenue\"])\n",
    "        for rowNum in range(len(ids)):\n",
    "            try:\n",
    "                lineWriter.writerow([ids[rowNum],result[rowNum]])\n",
    "            except Exception as e:\n",
    "                print (e)\n",
    "# Let's take this for a spin! \n",
    "resultFile=\"result.csv\"\n",
    "MTTTest(clf,resultFile)"
   ]
  }
 ],
 "metadata": {
  "kernelspec": {
   "display_name": "Python 3",
   "language": "python",
   "name": "python3"
  },
  "language_info": {
   "codemirror_mode": {
    "name": "ipython",
    "version": 3
   },
   "file_extension": ".py",
   "mimetype": "text/x-python",
   "name": "python",
   "nbconvert_exporter": "python",
   "pygments_lexer": "ipython3",
   "version": "3.8.3"
  }
 },
 "nbformat": 4,
 "nbformat_minor": 4
}
